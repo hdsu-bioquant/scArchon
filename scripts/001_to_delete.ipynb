{
 "cells": [
  {
   "cell_type": "code",
   "execution_count": 1,
   "metadata": {},
   "outputs": [],
   "source": [
    "import scanpy as sc"
   ]
  },
  {
   "cell_type": "code",
   "execution_count": 37,
   "metadata": {},
   "outputs": [],
   "source": [
    "# /var/localfs/working2/jradig/projects/snakemake_pipeline/results/gb/gb_screen_PW032.h5ad\n",
    "# /var/localfs/working2/jradig/projects/snakemake_pipeline/results/gb/gb_cellot_PW030.h5ad\n",
    "\n",
    "adata = sc.read_h5ad('/var/localfs/working2/jradig/projects/snakemake_pipeline/results/gb/gb_screen_PW032.h5ad')"
   ]
  },
  {
   "cell_type": "code",
   "execution_count": 38,
   "metadata": {},
   "outputs": [
    {
     "data": {
      "text/plain": [
       "AnnData object with n_obs × n_vars = 15420 × 20117\n",
       "    obs: 'Cell_type', 'Sequencing_Name', 'TissueID', 'Treatment', 'Patients', 'batch'\n",
       "    var: 'Accession'"
      ]
     },
     "execution_count": 38,
     "metadata": {},
     "output_type": "execute_result"
    }
   ],
   "source": [
    "adata"
   ]
  },
  {
   "cell_type": "code",
   "execution_count": 39,
   "metadata": {},
   "outputs": [
    {
     "data": {
      "text/plain": [
       "Treatment\n",
       "control       7060\n",
       "predicted     7060\n",
       "stimulated    1300\n",
       "Name: count, dtype: int64"
      ]
     },
     "execution_count": 39,
     "metadata": {},
     "output_type": "execute_result"
    }
   ],
   "source": [
    "adata.obs[\"Treatment\"].value_counts()"
   ]
  },
  {
   "cell_type": "code",
   "execution_count": 40,
   "metadata": {},
   "outputs": [],
   "source": [
    "predicted = adata[adata.obs[\"Treatment\"] == \"predicted\"]"
   ]
  },
  {
   "cell_type": "code",
   "execution_count": 41,
   "metadata": {},
   "outputs": [
    {
     "data": {
      "text/plain": [
       "array([[0.15803856, 0.4639927 , 0.        , ..., 0.        , 0.45657876,\n",
       "        0.        ],\n",
       "       [0.20878138, 0.515476  , 0.        , ..., 0.        , 0.5685452 ,\n",
       "        0.        ],\n",
       "       [0.1155322 , 0.40346295, 0.        , ..., 0.        , 0.37469694,\n",
       "        0.        ],\n",
       "       ...,\n",
       "       [0.0856007 , 0.29943702, 0.        , ..., 0.        , 0.24266002,\n",
       "        0.        ],\n",
       "       [0.0074211 , 0.27873734, 0.        , ..., 0.        , 0.34058413,\n",
       "        0.        ],\n",
       "       [0.09553552, 0.28896776, 0.        , ..., 0.        , 0.286375  ,\n",
       "        0.        ]], dtype=float32)"
      ]
     },
     "execution_count": 41,
     "metadata": {},
     "output_type": "execute_result"
    }
   ],
   "source": [
    "predicted.X.toarray()"
   ]
  },
  {
   "cell_type": "code",
   "execution_count": null,
   "metadata": {},
   "outputs": [],
   "source": []
  }
 ],
 "metadata": {
  "kernelspec": {
   "display_name": "Python (cellassign)",
   "language": "python",
   "name": "cellassign_env"
  },
  "language_info": {
   "codemirror_mode": {
    "name": "ipython",
    "version": 3
   },
   "file_extension": ".py",
   "mimetype": "text/x-python",
   "name": "python",
   "nbconvert_exporter": "python",
   "pygments_lexer": "ipython3",
   "version": "3.12.8"
  }
 },
 "nbformat": 4,
 "nbformat_minor": 2
}
